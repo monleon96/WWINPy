{
 "cells": [
  {
   "cell_type": "code",
   "execution_count": 1,
   "metadata": {},
   "outputs": [],
   "source": [
    "import sys\n",
    "from wwpy.parser import from_file\n",
    "from wwpy.ww_data import WWData"
   ]
  },
  {
   "cell_type": "code",
   "execution_count": 2,
   "metadata": {},
   "outputs": [],
   "source": [
    "ww_file_path = 'wwinp_ueki'\n",
    "#ww_file_path = '/home/MONLEON-JUAN/WW-workspace/large-files/wwinp'"
   ]
  },
  {
   "cell_type": "code",
   "execution_count": 3,
   "metadata": {},
   "outputs": [
    {
     "name": "stdout",
     "output_type": "stream",
     "text": [
      "Reading file: wwinp_ueki\n",
      "Header values: if=1, iv=1, ni=2, nr=10\n",
      "probid=''\n",
      "Parsing ne array...\n",
      "  ne[0] = 27\n",
      "  ne[1] = 0\n",
      "\n",
      "=== Verifying and Correcting Data ===\n",
      "Warning: Particle type 1 has 0 energy groups. It has been deleted and ni updated.\n",
      "  Updated ni: 1\n",
      "  Updated ne[0]: 27\n",
      "\n",
      "Parsing geometry parameters...\n",
      "  nfx=8.0, nfy=7.0, nfz=7.0\n",
      "  x0=-25.0, y0=-40.0, z0=-40.0\n",
      "Parsing nr=10 specific values...\n",
      "  ncx=8.0, ncy=7.0, ncz=7.0, nwg=1.0\n",
      "\n",
      "=== Parsing Geometry Block ===\n",
      "Mesh dimensions: ncx=8, ncy=7, ncz=7\n",
      "X-axis origin: -25.0\n",
      "  X-segment[0]: q=1.0, p=1.5, s=1.0\n",
      "  X-segment[1]: q=1.0, p=28.0, s=1.0\n",
      "  X-segment[2]: q=1.0, p=54.5, s=1.0\n",
      "  X-segment[3]: q=1.0, p=81.0, s=1.0\n",
      "  X-segment[4]: q=1.0, p=107.5, s=1.0\n",
      "  X-segment[5]: q=1.0, p=109.167, s=1.0\n",
      "  X-segment[6]: q=1.0, p=110.833, s=1.0\n",
      "  X-segment[7]: q=1.0, p=112.5, s=1.0\n",
      "Y-axis origin: -40.0\n",
      "  Y-segment[0]: q=1.0, p=-21.25, s=1.0\n",
      "  Y-segment[1]: q=1.0, p=-2.5, s=1.0\n",
      "  Y-segment[2]: q=1.0, p=-0.833333, s=1.0\n",
      "  Y-segment[3]: q=1.0, p=0.833333, s=1.0\n",
      "  Y-segment[4]: q=1.0, p=2.5, s=1.0\n",
      "  Y-segment[5]: q=1.0, p=21.25, s=1.0\n",
      "  Y-segment[6]: q=1.0, p=40.0, s=1.0\n",
      "Z-axis origin: -40.0\n",
      "  Z-segment[0]: q=1.0, p=-21.25, s=1.0\n",
      "  Z-segment[1]: q=1.0, p=-2.5, s=1.0\n",
      "  Z-segment[2]: q=1.0, p=-0.833333, s=1.0\n",
      "  Z-segment[3]: q=1.0, p=0.833333, s=1.0\n",
      "  Z-segment[4]: q=1.0, p=2.5, s=1.0\n",
      "  Z-segment[5]: q=1.0, p=21.25, s=1.0\n",
      "  Z-segment[6]: q=1.0, p=40.0, s=1.0\n",
      "\n",
      "=== Parsing Values Block ===\n",
      "Reading time bins...\n",
      "  t[0] = []\n",
      "Reading energy bins...\n",
      "  e[0][0] = 1e-08\n",
      "  e[0][1] = 3e-08\n",
      "  e[0][2] = 5e-08\n",
      "  e[0][3] = 1e-07\n",
      "  e[0][4] = 2.25e-07\n",
      "  e[0][5] = 3.25e-07\n",
      "  e[0][6] = 4.1399e-07\n",
      "  e[0][7] = 8e-07\n",
      "  e[0][8] = 1e-06\n",
      "  e[0][9] = 1.1253e-06\n",
      "  e[0][10] = 1.3e-06\n",
      "  e[0][11] = 1.8554e-06\n",
      "  e[0][12] = 3.059e-06\n",
      "  e[0][13] = 1.0677e-05\n",
      "  e[0][14] = 2.9023e-05\n",
      "  e[0][15] = 0.0001013\n",
      "  e[0][16] = 0.00058295\n",
      "  e[0][17] = 0.0030354\n",
      "  e[0][18] = 0.015034\n",
      "  e[0][19] = 0.11109\n",
      "  e[0][20] = 0.40762\n",
      "  e[0][21] = 0.90718\n",
      "  e[0][22] = 1.4227\n",
      "  e[0][23] = 1.8268\n",
      "  e[0][24] = 3.0119\n",
      "  e[0][25] = 6.3763\n",
      "  e[0][26] = 20.0\n",
      "Reading ww-values...\n",
      "Total geometry cells: 392\n",
      "Total expected ww-values: 10584\n",
      "Total ww-values read: 10584\n"
     ]
    }
   ],
   "source": [
    "try:\n",
    "    wwinp_data: WWData = from_file(ww_file_path, verbose=True)\n",
    "except Exception as e:\n",
    "    print(f\"Error parsing file: {e}\")\n",
    "    sys.exit(1)"
   ]
  },
  {
   "cell_type": "code",
   "execution_count": 4,
   "metadata": {},
   "outputs": [],
   "source": [
    "wwinp_data.multiply(2)\n",
    "wwinp_data.soften(0.5)"
   ]
  },
  {
   "cell_type": "code",
   "execution_count": 5,
   "metadata": {},
   "outputs": [
    {
     "name": "stdout",
     "output_type": "stream",
     "text": [
      "\n",
      "Processing particle type 0:\n",
      "\n",
      "No modifications were needed - all ratios are within threshold\n"
     ]
    }
   ],
   "source": [
    "wwinp_data.values.apply_ratio_threshold(10,0,verbose=True)"
   ]
  }
 ],
 "metadata": {
  "kernelspec": {
   "display_name": "wwpy-1YuGldJF-py3.12",
   "language": "python",
   "name": "python3"
  },
  "language_info": {
   "codemirror_mode": {
    "name": "ipython",
    "version": 3
   },
   "file_extension": ".py",
   "mimetype": "text/x-python",
   "name": "python",
   "nbconvert_exporter": "python",
   "pygments_lexer": "ipython3",
   "version": "3.12.3"
  }
 },
 "nbformat": 4,
 "nbformat_minor": 2
}
