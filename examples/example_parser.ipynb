{
 "cells": [
  {
   "cell_type": "code",
   "execution_count": 1,
   "metadata": {},
   "outputs": [],
   "source": [
    "import sys\n",
    "from wwpy.parser import from_file\n",
    "from wwpy.ww_data import WWData"
   ]
  },
  {
   "cell_type": "code",
   "execution_count": 2,
   "metadata": {},
   "outputs": [],
   "source": [
    "ww_file_path = 'wwinp_ueki'"
   ]
  },
  {
   "cell_type": "code",
   "execution_count": 3,
   "metadata": {},
   "outputs": [],
   "source": [
    "#ww_file_path = '/home/MONLEON-JUAN/WW-workspace/large-files/wwinp'"
   ]
  },
  {
   "cell_type": "code",
   "execution_count": 4,
   "metadata": {},
   "outputs": [
    {
     "name": "stdout",
     "output_type": "stream",
     "text": [
      "Reading file: wwinp_ueki\n",
      "Header values: if=1, iv=1, ni=2, nr=10\n",
      "probid=''\n",
      "Parsing ne array...\n",
      "  ne[0] = 27\n",
      "  ne[1] = 0\n",
      "\n",
      "=== Verifying and Correcting Data ===\n",
      "Warning: Particle type 1 has 0 energy groups. It has been deleted and ni updated.\n",
      "  Updated ni: 1\n",
      "  Updated ne[0]: 27\n",
      "\n",
      "Parsing geometry parameters...\n",
      "  nfx=8.0, nfy=7.0, nfz=7.0\n",
      "  x0=-25.0, y0=-40.0, z0=-40.0\n",
      "Parsing nr=10 specific values...\n",
      "  ncx=8.0, ncy=7.0, ncz=7.0, nwg=1.0\n",
      "\n",
      "=== Parsing Geometry Block ===\n",
      "Mesh dimensions: ncx=8, ncy=7, ncz=7\n",
      "X-axis origin: -25.0\n",
      "  X-segment[0]: q=1.0, p=1.5, s=1.0\n",
      "  X-segment[1]: q=1.0, p=28.0, s=1.0\n",
      "  X-segment[2]: q=1.0, p=54.5, s=1.0\n",
      "  X-segment[3]: q=1.0, p=81.0, s=1.0\n",
      "  X-segment[4]: q=1.0, p=107.5, s=1.0\n",
      "  X-segment[5]: q=1.0, p=109.167, s=1.0\n",
      "  X-segment[6]: q=1.0, p=110.833, s=1.0\n",
      "  X-segment[7]: q=1.0, p=112.5, s=1.0\n",
      "Y-axis origin: -40.0\n",
      "  Y-segment[0]: q=1.0, p=-21.25, s=1.0\n",
      "  Y-segment[1]: q=1.0, p=-2.5, s=1.0\n",
      "  Y-segment[2]: q=1.0, p=-0.833333, s=1.0\n",
      "  Y-segment[3]: q=1.0, p=0.833333, s=1.0\n",
      "  Y-segment[4]: q=1.0, p=2.5, s=1.0\n",
      "  Y-segment[5]: q=1.0, p=21.25, s=1.0\n",
      "  Y-segment[6]: q=1.0, p=40.0, s=1.0\n",
      "Z-axis origin: -40.0\n",
      "  Z-segment[0]: q=1.0, p=-21.25, s=1.0\n",
      "  Z-segment[1]: q=1.0, p=-2.5, s=1.0\n",
      "  Z-segment[2]: q=1.0, p=-0.833333, s=1.0\n",
      "  Z-segment[3]: q=1.0, p=0.833333, s=1.0\n",
      "  Z-segment[4]: q=1.0, p=2.5, s=1.0\n",
      "  Z-segment[5]: q=1.0, p=21.25, s=1.0\n",
      "  Z-segment[6]: q=1.0, p=40.0, s=1.0\n",
      "\n",
      "=== Parsing Values Block ===\n",
      "Reading time bins...\n",
      "  t[0] = []\n",
      "Reading energy bins...\n",
      "  e[0][0] = 1e-08\n",
      "  e[0][1] = 3e-08\n",
      "  e[0][2] = 5e-08\n",
      "  e[0][3] = 1e-07\n",
      "  e[0][4] = 2.25e-07\n",
      "  e[0][5] = 3.25e-07\n",
      "  e[0][6] = 4.1399e-07\n",
      "  e[0][7] = 8e-07\n",
      "  e[0][8] = 1e-06\n",
      "  e[0][9] = 1.1253e-06\n",
      "  e[0][10] = 1.3e-06\n",
      "  e[0][11] = 1.8554e-06\n",
      "  e[0][12] = 3.059e-06\n",
      "  e[0][13] = 1.0677e-05\n",
      "  e[0][14] = 2.9023e-05\n",
      "  e[0][15] = 0.0001013\n",
      "  e[0][16] = 0.00058295\n",
      "  e[0][17] = 0.0030354\n",
      "  e[0][18] = 0.015034\n",
      "  e[0][19] = 0.11109\n",
      "  e[0][20] = 0.40762\n",
      "  e[0][21] = 0.90718\n",
      "  e[0][22] = 1.4227\n",
      "  e[0][23] = 1.8268\n",
      "  e[0][24] = 3.0119\n",
      "  e[0][25] = 6.3763\n",
      "  e[0][26] = 20.0\n",
      "Reading ww-values...\n",
      "Total geometry cells: 392\n",
      "Total expected ww-values: 10584\n",
      "Total ww-values read: 10584\n"
     ]
    }
   ],
   "source": [
    "try:\n",
    "    wwinp_data: WWData = from_file(ww_file_path, verbose=True)\n",
    "except Exception as e:\n",
    "    print(f\"Error parsing file: {e}\")\n",
    "    sys.exit(1)"
   ]
  },
  {
   "cell_type": "code",
   "execution_count": 15,
   "metadata": {},
   "outputs": [
    {
     "data": {
      "text/plain": [
       "array([[[3.74716e+11, 4.62784e+10, 2.04099e+10, ..., 1.61974e+09,\n",
       "         1.59127e+09, 1.57594e+09],\n",
       "        [2.97558e+11, 4.26816e+10, 1.99507e+10, ..., 1.59839e+09,\n",
       "         1.57100e+09, 1.55731e+09],\n",
       "        [2.51297e+11, 4.04473e+10, 1.97289e+10, ..., 1.58933e+09,\n",
       "         1.56242e+09, 1.54924e+09],\n",
       "        ...,\n",
       "        [3.08912e+09, 1.24770e+09, 6.99321e+08, ..., 4.39785e+07,\n",
       "         4.37943e+07, 4.39171e+07],\n",
       "        [2.25040e+09, 9.90649e+08, 5.80925e+08, ..., 3.90302e+07,\n",
       "         3.89225e+07, 3.90854e+07],\n",
       "        [1.49079e+09, 7.66075e+08, 4.95798e+08, ..., 4.03358e+07,\n",
       "         4.05160e+07, 4.09321e+07]]])"
      ]
     },
     "execution_count": 15,
     "metadata": {},
     "output_type": "execute_result"
    }
   ],
   "source": [
    "wwinp_data.values.ww_values[0]"
   ]
  },
  {
   "cell_type": "code",
   "execution_count": 14,
   "metadata": {},
   "outputs": [
    {
     "data": {
      "text/html": [
       "<div>\n",
       "<style scoped>\n",
       "    .dataframe tbody tr th:only-of-type {\n",
       "        vertical-align: middle;\n",
       "    }\n",
       "\n",
       "    .dataframe tbody tr th {\n",
       "        vertical-align: top;\n",
       "    }\n",
       "\n",
       "    .dataframe thead th {\n",
       "        text-align: right;\n",
       "    }\n",
       "</style>\n",
       "<table border=\"1\" class=\"dataframe\">\n",
       "  <thead>\n",
       "    <tr style=\"text-align: right;\">\n",
       "      <th></th>\n",
       "      <th>particle_type</th>\n",
       "      <th>time_start</th>\n",
       "      <th>time_end</th>\n",
       "      <th>energy_start</th>\n",
       "      <th>energy_end</th>\n",
       "      <th>x_start</th>\n",
       "      <th>x_end</th>\n",
       "      <th>y_start</th>\n",
       "      <th>y_end</th>\n",
       "      <th>z_start</th>\n",
       "      <th>z_end</th>\n",
       "      <th>ww_value</th>\n",
       "    </tr>\n",
       "  </thead>\n",
       "  <tbody>\n",
       "    <tr>\n",
       "      <th>0</th>\n",
       "      <td>0</td>\n",
       "      <td>0.0</td>\n",
       "      <td>inf</td>\n",
       "      <td>0.90718</td>\n",
       "      <td>1.4227</td>\n",
       "      <td>-25.0</td>\n",
       "      <td>1.5</td>\n",
       "      <td>-0.833333</td>\n",
       "      <td>0.833333</td>\n",
       "      <td>-0.833333</td>\n",
       "      <td>0.833333</td>\n",
       "      <td>3.257030e+10</td>\n",
       "    </tr>\n",
       "    <tr>\n",
       "      <th>1</th>\n",
       "      <td>0</td>\n",
       "      <td>0.0</td>\n",
       "      <td>inf</td>\n",
       "      <td>0.90718</td>\n",
       "      <td>1.4227</td>\n",
       "      <td>1.5</td>\n",
       "      <td>28.0</td>\n",
       "      <td>-0.833333</td>\n",
       "      <td>0.833333</td>\n",
       "      <td>-0.833333</td>\n",
       "      <td>0.833333</td>\n",
       "      <td>2.141830e+09</td>\n",
       "    </tr>\n",
       "    <tr>\n",
       "      <th>2</th>\n",
       "      <td>0</td>\n",
       "      <td>0.0</td>\n",
       "      <td>inf</td>\n",
       "      <td>1.42270</td>\n",
       "      <td>1.8268</td>\n",
       "      <td>-25.0</td>\n",
       "      <td>1.5</td>\n",
       "      <td>-0.833333</td>\n",
       "      <td>0.833333</td>\n",
       "      <td>-0.833333</td>\n",
       "      <td>0.833333</td>\n",
       "      <td>1.918890e+10</td>\n",
       "    </tr>\n",
       "    <tr>\n",
       "      <th>3</th>\n",
       "      <td>0</td>\n",
       "      <td>0.0</td>\n",
       "      <td>inf</td>\n",
       "      <td>1.42270</td>\n",
       "      <td>1.8268</td>\n",
       "      <td>1.5</td>\n",
       "      <td>28.0</td>\n",
       "      <td>-0.833333</td>\n",
       "      <td>0.833333</td>\n",
       "      <td>-0.833333</td>\n",
       "      <td>0.833333</td>\n",
       "      <td>1.468830e+09</td>\n",
       "    </tr>\n",
       "    <tr>\n",
       "      <th>4</th>\n",
       "      <td>0</td>\n",
       "      <td>0.0</td>\n",
       "      <td>inf</td>\n",
       "      <td>1.82680</td>\n",
       "      <td>3.0119</td>\n",
       "      <td>-25.0</td>\n",
       "      <td>1.5</td>\n",
       "      <td>-0.833333</td>\n",
       "      <td>0.833333</td>\n",
       "      <td>-0.833333</td>\n",
       "      <td>0.833333</td>\n",
       "      <td>1.378580e+10</td>\n",
       "    </tr>\n",
       "    <tr>\n",
       "      <th>5</th>\n",
       "      <td>0</td>\n",
       "      <td>0.0</td>\n",
       "      <td>inf</td>\n",
       "      <td>1.82680</td>\n",
       "      <td>3.0119</td>\n",
       "      <td>1.5</td>\n",
       "      <td>28.0</td>\n",
       "      <td>-0.833333</td>\n",
       "      <td>0.833333</td>\n",
       "      <td>-0.833333</td>\n",
       "      <td>0.833333</td>\n",
       "      <td>1.190380e+09</td>\n",
       "    </tr>\n",
       "    <tr>\n",
       "      <th>6</th>\n",
       "      <td>0</td>\n",
       "      <td>0.0</td>\n",
       "      <td>inf</td>\n",
       "      <td>3.01190</td>\n",
       "      <td>6.3763</td>\n",
       "      <td>-25.0</td>\n",
       "      <td>1.5</td>\n",
       "      <td>-0.833333</td>\n",
       "      <td>0.833333</td>\n",
       "      <td>-0.833333</td>\n",
       "      <td>0.833333</td>\n",
       "      <td>9.248920e+09</td>\n",
       "    </tr>\n",
       "    <tr>\n",
       "      <th>7</th>\n",
       "      <td>0</td>\n",
       "      <td>0.0</td>\n",
       "      <td>inf</td>\n",
       "      <td>3.01190</td>\n",
       "      <td>6.3763</td>\n",
       "      <td>1.5</td>\n",
       "      <td>28.0</td>\n",
       "      <td>-0.833333</td>\n",
       "      <td>0.833333</td>\n",
       "      <td>-0.833333</td>\n",
       "      <td>0.833333</td>\n",
       "      <td>9.358320e+08</td>\n",
       "    </tr>\n",
       "    <tr>\n",
       "      <th>8</th>\n",
       "      <td>0</td>\n",
       "      <td>0.0</td>\n",
       "      <td>inf</td>\n",
       "      <td>6.37630</td>\n",
       "      <td>20.0000</td>\n",
       "      <td>-25.0</td>\n",
       "      <td>1.5</td>\n",
       "      <td>-0.833333</td>\n",
       "      <td>0.833333</td>\n",
       "      <td>-0.833333</td>\n",
       "      <td>0.833333</td>\n",
       "      <td>5.637660e+09</td>\n",
       "    </tr>\n",
       "    <tr>\n",
       "      <th>9</th>\n",
       "      <td>0</td>\n",
       "      <td>0.0</td>\n",
       "      <td>inf</td>\n",
       "      <td>6.37630</td>\n",
       "      <td>20.0000</td>\n",
       "      <td>1.5</td>\n",
       "      <td>28.0</td>\n",
       "      <td>-0.833333</td>\n",
       "      <td>0.833333</td>\n",
       "      <td>-0.833333</td>\n",
       "      <td>0.833333</td>\n",
       "      <td>7.149460e+08</td>\n",
       "    </tr>\n",
       "  </tbody>\n",
       "</table>\n",
       "</div>"
      ],
      "text/plain": [
       "   particle_type  time_start  time_end  energy_start  energy_end  x_start  \\\n",
       "0              0         0.0       inf       0.90718      1.4227    -25.0   \n",
       "1              0         0.0       inf       0.90718      1.4227      1.5   \n",
       "2              0         0.0       inf       1.42270      1.8268    -25.0   \n",
       "3              0         0.0       inf       1.42270      1.8268      1.5   \n",
       "4              0         0.0       inf       1.82680      3.0119    -25.0   \n",
       "5              0         0.0       inf       1.82680      3.0119      1.5   \n",
       "6              0         0.0       inf       3.01190      6.3763    -25.0   \n",
       "7              0         0.0       inf       3.01190      6.3763      1.5   \n",
       "8              0         0.0       inf       6.37630     20.0000    -25.0   \n",
       "9              0         0.0       inf       6.37630     20.0000      1.5   \n",
       "\n",
       "   x_end   y_start     y_end   z_start     z_end      ww_value  \n",
       "0    1.5 -0.833333  0.833333 -0.833333  0.833333  3.257030e+10  \n",
       "1   28.0 -0.833333  0.833333 -0.833333  0.833333  2.141830e+09  \n",
       "2    1.5 -0.833333  0.833333 -0.833333  0.833333  1.918890e+10  \n",
       "3   28.0 -0.833333  0.833333 -0.833333  0.833333  1.468830e+09  \n",
       "4    1.5 -0.833333  0.833333 -0.833333  0.833333  1.378580e+10  \n",
       "5   28.0 -0.833333  0.833333 -0.833333  0.833333  1.190380e+09  \n",
       "6    1.5 -0.833333  0.833333 -0.833333  0.833333  9.248920e+09  \n",
       "7   28.0 -0.833333  0.833333 -0.833333  0.833333  9.358320e+08  \n",
       "8    1.5 -0.833333  0.833333 -0.833333  0.833333  5.637660e+09  \n",
       "9   28.0 -0.833333  0.833333 -0.833333  0.833333  7.149460e+08  "
      ]
     },
     "execution_count": 14,
     "metadata": {},
     "output_type": "execute_result"
    }
   ],
   "source": [
    "wwinp_data.query_ww(\n",
    "    particle_type=0,\n",
    "    energy=(1,20),\n",
    "    x=(-20,20),\n",
    "    y=0,\n",
    "    z=0\n",
    ").to_dataframe()"
   ]
  },
  {
   "cell_type": "code",
   "execution_count": 6,
   "metadata": {},
   "outputs": [],
   "source": [
    "#wwinp_data.multiply(2)"
   ]
  },
  {
   "cell_type": "code",
   "execution_count": 7,
   "metadata": {},
   "outputs": [],
   "source": [
    "#wwinp_data.soften(0.5)"
   ]
  },
  {
   "cell_type": "code",
   "execution_count": 12,
   "metadata": {},
   "outputs": [
    {
     "data": {
      "text/html": [
       "<div>\n",
       "<style scoped>\n",
       "    .dataframe tbody tr th:only-of-type {\n",
       "        vertical-align: middle;\n",
       "    }\n",
       "\n",
       "    .dataframe tbody tr th {\n",
       "        vertical-align: top;\n",
       "    }\n",
       "\n",
       "    .dataframe thead th {\n",
       "        text-align: right;\n",
       "    }\n",
       "</style>\n",
       "<table border=\"1\" class=\"dataframe\">\n",
       "  <thead>\n",
       "    <tr style=\"text-align: right;\">\n",
       "      <th></th>\n",
       "      <th>particle_type</th>\n",
       "      <th>time_start</th>\n",
       "      <th>time_end</th>\n",
       "      <th>energy_start</th>\n",
       "      <th>energy_end</th>\n",
       "      <th>x_start</th>\n",
       "      <th>x_end</th>\n",
       "      <th>y_start</th>\n",
       "      <th>y_end</th>\n",
       "      <th>z_start</th>\n",
       "      <th>z_end</th>\n",
       "      <th>ww_value</th>\n",
       "    </tr>\n",
       "  </thead>\n",
       "  <tbody>\n",
       "    <tr>\n",
       "      <th>0</th>\n",
       "      <td>0</td>\n",
       "      <td>0.0</td>\n",
       "      <td>inf</td>\n",
       "      <td>0.0</td>\n",
       "      <td>1.000000e-08</td>\n",
       "      <td>-25.0</td>\n",
       "      <td>1.5</td>\n",
       "      <td>-0.833333</td>\n",
       "      <td>0.833333</td>\n",
       "      <td>-0.833333</td>\n",
       "      <td>0.833333</td>\n",
       "      <td>1.491760e+12</td>\n",
       "    </tr>\n",
       "  </tbody>\n",
       "</table>\n",
       "</div>"
      ],
      "text/plain": [
       "   particle_type  time_start  time_end  energy_start    energy_end  x_start  \\\n",
       "0              0         0.0       inf           0.0  1.000000e-08    -25.0   \n",
       "\n",
       "   x_end   y_start     y_end   z_start     z_end      ww_value  \n",
       "0    1.5 -0.833333  0.833333 -0.833333  0.833333  1.491760e+12  "
      ]
     },
     "execution_count": 12,
     "metadata": {},
     "output_type": "execute_result"
    }
   ],
   "source": [
    "wwinp_data.values.query_ww(\n",
    "    particle_type=0,\n",
    "    energy=0,\n",
    "    x=0,\n",
    "    y=0,\n",
    "    z=0\n",
    ").to_dataframe()"
   ]
  },
  {
   "cell_type": "code",
   "execution_count": 9,
   "metadata": {},
   "outputs": [],
   "source": [
    "#wwinp_data.write_file('wwinp_ueki_softened')"
   ]
  },
  {
   "cell_type": "code",
   "execution_count": null,
   "metadata": {},
   "outputs": [
    {
     "data": {
      "text/plain": [
       "array([-25.        ,   1.5       ,  28.        ,  54.5       ,\n",
       "        81.        , 107.5       , 109.16699982, 110.83300018,\n",
       "       112.5       ])"
      ]
     },
     "execution_count": 10,
     "metadata": {},
     "output_type": "execute_result"
    }
   ],
   "source": [
    "wwinp_data.mesh.fine_geometry_mesh['x']"
   ]
  },
  {
   "cell_type": "code",
   "execution_count": 11,
   "metadata": {},
   "outputs": [
    {
     "data": {
      "text/plain": [
       "{0: array([1.0000e-08, 3.0000e-08, 5.0000e-08, 1.0000e-07, 2.2500e-07,\n",
       "        3.2500e-07, 4.1399e-07, 8.0000e-07, 1.0000e-06, 1.1253e-06,\n",
       "        1.3000e-06, 1.8554e-06, 3.0590e-06, 1.0677e-05, 2.9023e-05,\n",
       "        1.0130e-04, 5.8295e-04, 3.0354e-03, 1.5034e-02, 1.1109e-01,\n",
       "        4.0762e-01, 9.0718e-01, 1.4227e+00, 1.8268e+00, 3.0119e+00,\n",
       "        6.3763e+00, 2.0000e+01])}"
      ]
     },
     "execution_count": 11,
     "metadata": {},
     "output_type": "execute_result"
    }
   ],
   "source": [
    "wwinp_data.mesh.energy_mesh"
   ]
  },
  {
   "cell_type": "code",
   "execution_count": 12,
   "metadata": {},
   "outputs": [
    {
     "data": {
      "text/plain": [
       "{0: array([[[3.74716e+11, 4.62784e+10, 2.04099e+10, ..., 1.61974e+09,\n",
       "          1.59127e+09, 1.57594e+09],\n",
       "         [2.97558e+11, 4.26816e+10, 1.99507e+10, ..., 1.59839e+09,\n",
       "          1.57100e+09, 1.55731e+09],\n",
       "         [2.51297e+11, 4.04473e+10, 1.97289e+10, ..., 1.58933e+09,\n",
       "          1.56242e+09, 1.54924e+09],\n",
       "         ...,\n",
       "         [3.08912e+09, 1.24770e+09, 6.99321e+08, ..., 4.39785e+07,\n",
       "          4.37943e+07, 4.39171e+07],\n",
       "         [2.25040e+09, 9.90649e+08, 5.80925e+08, ..., 3.90302e+07,\n",
       "          3.89225e+07, 3.90854e+07],\n",
       "         [1.49079e+09, 7.66075e+08, 4.95798e+08, ..., 4.03358e+07,\n",
       "          4.05160e+07, 4.09321e+07]]])}"
      ]
     },
     "execution_count": 12,
     "metadata": {},
     "output_type": "execute_result"
    }
   ],
   "source": [
    "wwinp_data.values.ww_values"
   ]
  },
  {
   "cell_type": "code",
   "execution_count": null,
   "metadata": {},
   "outputs": [
    {
     "data": {
      "text/plain": [
       "array([0.0000e+00, 1.0000e-08, 3.0000e-08, 5.0000e-08, 1.0000e-07,\n",
       "       2.2500e-07, 3.2500e-07, 4.1399e-07, 8.0000e-07, 1.0000e-06,\n",
       "       1.1253e-06, 1.3000e-06, 1.8554e-06, 3.0590e-06, 1.0677e-05,\n",
       "       2.9023e-05, 1.0130e-04, 5.8295e-04, 3.0354e-03, 1.5034e-02,\n",
       "       1.1109e-01, 4.0762e-01, 9.0718e-01, 1.4227e+00, 1.8268e+00,\n",
       "       3.0119e+00, 6.3763e+00])"
      ]
     },
     "execution_count": 13,
     "metadata": {},
     "output_type": "execute_result"
    }
   ],
   "source": [
    "wwinp_data.values.query_ww(\n",
    "    particle_type=0,\n",
    "    time=0\n",
    ").to_dataframe()['energy_start'].unique()"
   ]
  },
  {
   "cell_type": "code",
   "execution_count": 14,
   "metadata": {},
   "outputs": [
    {
     "data": {
      "text/plain": [
       "WeightWindowValues(header=Header(if_=1, iv=1, ni=1, nr=10, probid='', nt=[], ne=[27], nfx=8.0, nfy=7.0, nfz=7.0, x0=-25.0, y0=-40.0, z0=-40.0, ncx=8.0, ncy=7.0, ncz=7.0, nwg=1.0, x1=None, y1=None, z1=None, x2=None, y2=None, z2=None), mesh=Mesh(header=Header(if_=1, iv=1, ni=1, nr=10, probid='', nt=[], ne=[27], nfx=8.0, nfy=7.0, nfz=7.0, x0=-25.0, y0=-40.0, z0=-40.0, ncx=8.0, ncy=7.0, ncz=7.0, nwg=1.0, x1=None, y1=None, z1=None, x2=None, y2=None, z2=None), geometry=GeometryData(header=Header(if_=1, iv=1, ni=1, nr=10, probid='', nt=[], ne=[27], nfx=8.0, nfy=7.0, nfz=7.0, x0=-25.0, y0=-40.0, z0=-40.0, ncx=8.0, ncy=7.0, ncz=7.0, nwg=1.0, x1=None, y1=None, z1=None, x2=None, y2=None, z2=None), x_axis=GeometryAxis(origin=-25.0, q=array([1., 1., 1., 1., 1., 1., 1., 1.]), p=array([  1.5       ,  28.        ,  54.5       ,  81.        ,\n",
       "       107.5       , 109.16699982, 110.83300018, 112.5       ]), s=array([1., 1., 1., 1., 1., 1., 1., 1.])), y_axis=GeometryAxis(origin=-40.0, q=array([1., 1., 1., 1., 1., 1., 1.]), p=array([-21.25      ,  -2.5       ,  -0.83333302,   0.83333302,\n",
       "         2.5       ,  21.25      ,  40.        ]), s=array([1., 1., 1., 1., 1., 1., 1.])), z_axis=GeometryAxis(origin=-40.0, q=array([1., 1., 1., 1., 1., 1., 1.]), p=array([-21.25      ,  -2.5       ,  -0.83333302,   0.83333302,\n",
       "         2.5       ,  21.25      ,  40.        ]), s=array([1., 1., 1., 1., 1., 1., 1.])), r_axis=None, theta_axis=None, phi_axis=None), time_mesh={0: array([0.])}, energy_mesh={0: array([1.0000e-08, 3.0000e-08, 5.0000e-08, 1.0000e-07, 2.2500e-07,\n",
       "       3.2500e-07, 4.1399e-07, 8.0000e-07, 1.0000e-06, 1.1253e-06,\n",
       "       1.3000e-06, 1.8554e-06, 3.0590e-06, 1.0677e-05, 2.9023e-05,\n",
       "       1.0130e-04, 5.8295e-04, 3.0354e-03, 1.5034e-02, 1.1109e-01,\n",
       "       4.0762e-01, 9.0718e-01, 1.4227e+00, 1.8268e+00, 3.0119e+00,\n",
       "       6.3763e+00, 2.0000e+01])}), ww_values={0: array([[[3.74716e+11, 4.62784e+10, 2.04099e+10, ..., 1.61974e+09,\n",
       "         1.59127e+09, 1.57594e+09],\n",
       "        [2.97558e+11, 4.26816e+10, 1.99507e+10, ..., 1.59839e+09,\n",
       "         1.57100e+09, 1.55731e+09],\n",
       "        [2.51297e+11, 4.04473e+10, 1.97289e+10, ..., 1.58933e+09,\n",
       "         1.56242e+09, 1.54924e+09],\n",
       "        ...,\n",
       "        [3.08912e+09, 1.24770e+09, 6.99321e+08, ..., 4.39785e+07,\n",
       "         4.37943e+07, 4.39171e+07],\n",
       "        [2.25040e+09, 9.90649e+08, 5.80925e+08, ..., 3.90302e+07,\n",
       "         3.89225e+07, 3.90854e+07],\n",
       "        [1.49079e+09, 7.66075e+08, 4.95798e+08, ..., 4.03358e+07,\n",
       "         4.05160e+07, 4.09321e+07]]])})"
      ]
     },
     "execution_count": 14,
     "metadata": {},
     "output_type": "execute_result"
    }
   ],
   "source": [
    "wwinp_data.values"
   ]
  },
  {
   "cell_type": "code",
   "execution_count": null,
   "metadata": {},
   "outputs": [
    {
     "name": "stdout",
     "output_type": "stream",
     "text": [
      "\n",
      "=== HEADER INFO ===\n"
     ]
    },
    {
     "ename": "AttributeError",
     "evalue": "'WWData' object has no attribute 'header'",
     "output_type": "error",
     "traceback": [
      "\u001b[0;31m---------------------------------------------------------------------------\u001b[0m",
      "\u001b[0;31mAttributeError\u001b[0m                            Traceback (most recent call last)",
      "Cell \u001b[0;32mIn[15], line 3\u001b[0m\n\u001b[1;32m      1\u001b[0m \u001b[38;5;66;03m# 2) Print the entire header\u001b[39;00m\n\u001b[1;32m      2\u001b[0m \u001b[38;5;28mprint\u001b[39m(\u001b[38;5;124m\"\u001b[39m\u001b[38;5;130;01m\\n\u001b[39;00m\u001b[38;5;124m=== HEADER INFO ===\u001b[39m\u001b[38;5;124m\"\u001b[39m)\n\u001b[0;32m----> 3\u001b[0m \u001b[38;5;28mprint\u001b[39m(\u001b[38;5;124mf\u001b[39m\u001b[38;5;124m\"\u001b[39m\u001b[38;5;124mIF: \u001b[39m\u001b[38;5;132;01m{\u001b[39;00m\u001b[43mwwinp_data\u001b[49m\u001b[38;5;241;43m.\u001b[39;49m\u001b[43mheader\u001b[49m\u001b[38;5;241m.\u001b[39mif_\u001b[38;5;132;01m}\u001b[39;00m\u001b[38;5;124m\"\u001b[39m)\n\u001b[1;32m      4\u001b[0m \u001b[38;5;28mprint\u001b[39m(\u001b[38;5;124mf\u001b[39m\u001b[38;5;124m\"\u001b[39m\u001b[38;5;124mIV: \u001b[39m\u001b[38;5;132;01m{\u001b[39;00mwwinp_data\u001b[38;5;241m.\u001b[39mheader\u001b[38;5;241m.\u001b[39miv\u001b[38;5;132;01m}\u001b[39;00m\u001b[38;5;124m\"\u001b[39m)\n\u001b[1;32m      5\u001b[0m \u001b[38;5;28mprint\u001b[39m(\u001b[38;5;124mf\u001b[39m\u001b[38;5;124m\"\u001b[39m\u001b[38;5;124mNI: \u001b[39m\u001b[38;5;132;01m{\u001b[39;00mwwinp_data\u001b[38;5;241m.\u001b[39mheader\u001b[38;5;241m.\u001b[39mni\u001b[38;5;132;01m}\u001b[39;00m\u001b[38;5;124m\"\u001b[39m)\n",
      "\u001b[0;31mAttributeError\u001b[0m: 'WWData' object has no attribute 'header'"
     ]
    }
   ],
   "source": [
    "# 2) Print the entire header\n",
    "print(\"\\n=== HEADER INFO ===\")\n",
    "print(f\"IF: {wwinp_data.header.if_}\")\n",
    "print(f\"IV: {wwinp_data.header.iv}\")\n",
    "print(f\"NI: {wwinp_data.header.ni}\")\n",
    "print(f\"NR: {wwinp_data.header.nr}\")\n",
    "print(f\"PROBID: {wwinp_data.header.probid}\")\n",
    "print(f\"NT array: {wwinp_data.header.nt}\")\n",
    "print(f\"NE array: {wwinp_data.header.ne}\")\n",
    "print(f\"x0, y0, z0: {wwinp_data.header.x0}, {wwinp_data.header.y0}, {wwinp_data.header.z0}\")\n",
    "# ... and so on, if you want to print more"
   ]
  }
 ],
 "metadata": {
  "kernelspec": {
   "display_name": "wwpy-1YuGldJF-py3.12",
   "language": "python",
   "name": "python3"
  },
  "language_info": {
   "codemirror_mode": {
    "name": "ipython",
    "version": 3
   },
   "file_extension": ".py",
   "mimetype": "text/x-python",
   "name": "python",
   "nbconvert_exporter": "python",
   "pygments_lexer": "ipython3",
   "version": "3.12.3"
  }
 },
 "nbformat": 4,
 "nbformat_minor": 2
}
